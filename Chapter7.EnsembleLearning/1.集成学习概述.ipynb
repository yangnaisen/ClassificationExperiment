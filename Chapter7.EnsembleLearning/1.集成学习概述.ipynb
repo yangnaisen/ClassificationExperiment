{
 "cells": [
  {
   "cell_type": "markdown",
   "metadata": {},
   "source": [
    "# 集成学习的概述"
   ]
  },
  {
   "cell_type": "markdown",
   "metadata": {},
   "source": [
    "集成学习，或称模型聚合（ensemble learning or aggregation model），主要是学习组合各个分类器在一起，形成新的更强大的分类器，达到更好的性能和效果"
   ]
  },
  {
   "cell_type": "markdown",
   "metadata": {},
   "source": [
    "三种选择的方式：\n",
    "\n",
    "1.众多分类器里选一个最好的\n",
    "\n",
    "2.平均投票\n",
    "\n",
    "3.按权重投票\n",
    "\n",
    "4.根据不同的情况，按不同的规则混合在一起\n"
   ]
  },
  {
   "cell_type": "code",
   "execution_count": null,
   "metadata": {
    "collapsed": true
   },
   "outputs": [],
   "source": []
  }
 ],
 "metadata": {
  "anaconda-cloud": {},
  "kernelspec": {
   "display_name": "Python [default]",
   "language": "python",
   "name": "python2"
  },
  "language_info": {
   "codemirror_mode": {
    "name": "ipython",
    "version": 2
   },
   "file_extension": ".py",
   "mimetype": "text/x-python",
   "name": "python",
   "nbconvert_exporter": "python",
   "pygments_lexer": "ipython2",
   "version": "2.7.12"
  }
 },
 "nbformat": 4,
 "nbformat_minor": 1
}
