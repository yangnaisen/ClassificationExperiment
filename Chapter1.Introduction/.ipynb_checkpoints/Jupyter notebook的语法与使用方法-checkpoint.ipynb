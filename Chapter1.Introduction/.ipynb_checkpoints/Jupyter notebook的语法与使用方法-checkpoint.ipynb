{
 "cells": [
  {
   "cell_type": "markdown",
   "metadata": {
    "toc": "true"
   },
   "source": [
    "# Table of Contents\n",
    " <p><div class=\"lev1 toc-item\"><a href=\"#第一节-Ipython-notebook的安装\" data-toc-modified-id=\"第一节-Ipython-notebook的安装-1\"><span class=\"toc-item-num\">1&nbsp;&nbsp;</span>第一节 Ipython notebook的安装</a></div><div class=\"lev2 toc-item\"><a href=\"#IPython-Notebook的功能与用途\" data-toc-modified-id=\"IPython-Notebook的功能与用途-11\"><span class=\"toc-item-num\">1.1&nbsp;&nbsp;</span>IPython Notebook的功能与用途</a></div><div class=\"lev2 toc-item\"><a href=\"#2.-软件安装\" data-toc-modified-id=\"2.-软件安装-12\"><span class=\"toc-item-num\">1.2&nbsp;&nbsp;</span>2. 软件安装</a></div><div class=\"lev3 toc-item\"><a href=\"#下载安装\" data-toc-modified-id=\"下载安装-121\"><span class=\"toc-item-num\">1.2.1&nbsp;&nbsp;</span>下载安装</a></div><div class=\"lev3 toc-item\"><a href=\"#运行启动\" data-toc-modified-id=\"运行启动-122\"><span class=\"toc-item-num\">1.2.2&nbsp;&nbsp;</span>运行启动</a></div><div class=\"lev3 toc-item\"><a href=\"#检验安装\" data-toc-modified-id=\"检验安装-123\"><span class=\"toc-item-num\">1.2.3&nbsp;&nbsp;</span>检验安装</a></div><div class=\"lev2 toc-item\"><a href=\"#3.-使用方法\" data-toc-modified-id=\"3.-使用方法-13\"><span class=\"toc-item-num\">1.3&nbsp;&nbsp;</span>3. 使用方法</a></div><div class=\"lev1 toc-item\"><a href=\"#结语\" data-toc-modified-id=\"结语-2\"><span class=\"toc-item-num\">2&nbsp;&nbsp;</span>结语</a></div>"
   ]
  },
  {
   "cell_type": "markdown",
   "metadata": {},
   "source": [
    "#  第一节 Ipython notebook的安装"
   ]
  },
  {
   "cell_type": "markdown",
   "metadata": {},
   "source": [
    "Python语言简单灵活，开发效率高，有众多的机器学习算法的代码库支持。从Arcgis 10.0版本开始，Arcgis支持Python脚本调用。\n",
    "\n",
    "在众多的Python的集成开发环境中，Ipython Notebook最适合用于学习和分享。\n",
    "\n",
    "本节将介绍关于 Ipython Notebook 的四个内容：\n",
    "1. 功能用途\n",
    "2. 软件安装\n",
    "3. 使用方法\n",
    "4. LaTeX与Markdown"
   ]
  },
  {
   "cell_type": "markdown",
   "metadata": {},
   "source": [
    "## IPython Notebook的功能与用途"
   ]
  },
  {
   "cell_type": "markdown",
   "metadata": {},
   "source": [
    "Ipython Notebook应用程序，是2011年由美国加州大学伯克利分校数据科学家Fernando Pérez和加州州立综合科技大学计算物理学家Brian Granger带领的研究团队共同开发的。"
   ]
  },
  {
   "cell_type": "markdown",
   "metadata": {},
   "source": [
    "它是一个基于python语言的**交互式**命令界面。最大的亮点在于，以笔机的形式记录显示：\n",
    "* 文章思路\n",
    "* 编码过程\n",
    "* 代码注释\n",
    "* 输出结果\n",
    "* 分享演示"
   ]
  },
  {
   "cell_type": "markdown",
   "metadata": {},
   "source": [
    "不同于普通的注释，它的注释可以包含以下内容：\n",
    "1. **公式**：LaTeX数学公式\n",
    "2. **文本**：Markdown文本\n",
    "3. **图表**\n",
    "4. **视频**"
   ]
  },
  {
   "cell_type": "markdown",
   "metadata": {},
   "source": [
    "![Image of jupyter](image/jupyterpreview.png)"
   ]
  },
  {
   "cell_type": "markdown",
   "metadata": {},
   "source": [
    "IPython 4.0正式发布后，IPython分离成IPython和Jupyter，支持Ruby、R语言等，所以在左上角可以看到Jupyter的标识。"
   ]
  },
  {
   "cell_type": "markdown",
   "metadata": {},
   "source": [
    "这样的一款软件是易于使用的，按照下面的步骤就可以轻松获取它。"
   ]
  },
  {
   "cell_type": "markdown",
   "metadata": {},
   "source": [
    "## 2. 软件安装"
   ]
  },
  {
   "cell_type": "markdown",
   "metadata": {},
   "source": [
    "### 下载安装"
   ]
  },
  {
   "cell_type": "markdown",
   "metadata": {},
   "source": [
    "有多种安装Ipython Notebook的方式，推荐使用Anaconda安装包。Anaconda集成了大量的常用数据分析、科学计算的库，可以在Windows、Mac和Linux下一键安装。"
   ]
  },
  {
   "cell_type": "markdown",
   "metadata": {},
   "source": [
    "Python有很多的版本，Anaconda都支持。这里我们使用Python 2.7版本的Anaconda安装包，这个版本的python代码库是功能最全面的。"
   ]
  },
  {
   "cell_type": "markdown",
   "metadata": {},
   "source": [
    "软件可以一键安装，安装包下载地址为：\n",
    "https://www.continuum.io/downloads"
   ]
  },
  {
   "cell_type": "markdown",
   "metadata": {},
   "source": [
    "### 运行启动"
   ]
  },
  {
   "cell_type": "markdown",
   "metadata": {},
   "source": [
    "1. 在windows系统下，选择自己的目录；\n",
    "2. 在空白处，点击“shift+右键”，弹出菜单；\n",
    "3. 在菜单中选择“打开命令行”选项；\n",
    "4. 在命令行中输入：   \n",
    "```bash\n",
    "ipython notebook\n",
    "```\n",
    "将会自动在浏览器中弹出软件页面。"
   ]
  },
  {
   "cell_type": "markdown",
   "metadata": {},
   "source": [
    "### 检验安装"
   ]
  },
  {
   "cell_type": "markdown",
   "metadata": {},
   "source": [
    "在浏览器里软件界面的右侧点击 **New**，选择 **Python2**，新建一个文件："
   ]
  },
  {
   "cell_type": "markdown",
   "metadata": {},
   "source": [
    "![](image\\新建文件.png)"
   ]
  },
  {
   "cell_type": "markdown",
   "metadata": {
    "collapsed": false
   },
   "source": [
    "Anaconda目前已经安装完成。使用以下命令，检查课程所使用依赖项是否完整："
   ]
  },
  {
   "cell_type": "code",
   "execution_count": null,
   "metadata": {
    "collapsed": false
   },
   "outputs": [],
   "source": [
    "from __future__ import print_function\n",
    "\n",
    "import IPython\n",
    "print('IPython:', IPython.__version__)\n",
    "\n",
    "import numpy\n",
    "print('numpy:', numpy.__version__)\n",
    "\n",
    "import scipy\n",
    "print('scipy:',scipy.__version__)\n",
    "\n",
    "import matplotlib\n",
    "print('matplotlib:', matplotlib.__version__)\n",
    "\n",
    "import sklearn\n",
    "print('scikit-learn:', sklearn.__version__)\n",
    "\n",
    "import seaborn\n",
    "print('seaborn', seaborn.__version__)"
   ]
  },
  {
   "cell_type": "markdown",
   "metadata": {},
   "source": [
    "如果显示seaborn未能正确安装，在命令行输入："
   ]
  },
  {
   "cell_type": "markdown",
   "metadata": {
    "collapsed": false,
    "scrolled": false
   },
   "source": [
    "```bash\n",
    "conda install seaborn\n",
    "```"
   ]
  },
  {
   "cell_type": "markdown",
   "metadata": {
    "collapsed": true
   },
   "source": [
    "或是参看以下网址安装seaborn包：\n",
    "http://blog.csdn.net/RobertChenGuangzhi/article/details/49103421"
   ]
  },
  {
   "cell_type": "markdown",
   "metadata": {},
   "source": [
    "安装完毕，经过依赖包的检验后，就可以进行尽情使用它提供的一切功能了。"
   ]
  },
  {
   "cell_type": "markdown",
   "metadata": {},
   "source": [
    "## 3. 使用方法"
   ]
  },
  {
   "cell_type": "markdown",
   "metadata": {},
   "source": [
    "这里简单介绍最常用到的操作。"
   ]
  },
  {
   "cell_type": "markdown",
   "metadata": {},
   "source": [
    "**%pylab** 可以导入常用的函数名称空间，直接使用常用函数。 "
   ]
  },
  {
   "cell_type": "code",
   "execution_count": null,
   "metadata": {
    "collapsed": false
   },
   "outputs": [],
   "source": [
    "%pylab"
   ]
  },
  {
   "cell_type": "markdown",
   "metadata": {},
   "source": [
    "**inline** 是把显示的图片嵌入到notebook中，而不是单独显示一个窗口。"
   ]
  },
  {
   "cell_type": "code",
   "execution_count": null,
   "metadata": {
    "collapsed": false
   },
   "outputs": [],
   "source": [
    "%pylab inline"
   ]
  },
  {
   "cell_type": "markdown",
   "metadata": {},
   "source": [
    "**Shift+Tab** 快捷键用来快速查看函数信息。"
   ]
  },
  {
   "cell_type": "code",
   "execution_count": null,
   "metadata": {
    "collapsed": false
   },
   "outputs": [],
   "source": [
    "linspace"
   ]
  },
  {
   "cell_type": "markdown",
   "metadata": {},
   "source": [
    "函数名后面跟随一个问号，可以查看函数的帮助信息。"
   ]
  },
  {
   "cell_type": "code",
   "execution_count": null,
   "metadata": {
    "collapsed": true
   },
   "outputs": [],
   "source": [
    "sum?"
   ]
  },
  {
   "cell_type": "markdown",
   "metadata": {},
   "source": [
    "类名后面跟随两个问号，可以显示定义类的源码"
   ]
  },
  {
   "cell_type": "code",
   "execution_count": 1,
   "metadata": {
    "collapsed": true
   },
   "outputs": [],
   "source": [
    "sum??"
   ]
  },
  {
   "cell_type": "markdown",
   "metadata": {},
   "source": [
    "**%run** 命令把文件中的代码执行一遍，并不复制。"
   ]
  },
  {
   "cell_type": "code",
   "execution_count": null,
   "metadata": {
    "collapsed": false
   },
   "outputs": [],
   "source": [
    "%run PythonCode/lorenz.py"
   ]
  },
  {
   "cell_type": "markdown",
   "metadata": {},
   "source": [
    "**%load** 命令会把文件中的代码复制到notebook里。"
   ]
  },
  {
   "cell_type": "markdown",
   "metadata": {},
   "source": [
    "```bash\n",
    "%load PythonCode/lorenz.py\n",
    "```"
   ]
  },
  {
   "cell_type": "code",
   "execution_count": null,
   "metadata": {
    "collapsed": true
   },
   "outputs": [],
   "source": [
    "# %load PythonCode/lorenz.py\n",
    "import numpy as np\n",
    "import matplotlib.pyplot as plt\n",
    "from scipy.integrate import odeint\n",
    "from mpl_toolkits.mplot3d import Axes3D\n",
    "\n",
    "def make_lorenz(sigma, r, b):\n",
    "\tdef func(statevec, t):\n",
    "\t\tx, y, z = statevec\n",
    "\t\treturn [ sigma * (y - x),\n",
    "\t\t\tr * x - y - x * z,\n",
    "\t\t\tx * y - b * z ]\n",
    "\treturn func\n",
    "lorenz_eq = make_lorenz(10., 28., 8./3.)\n",
    "\n",
    "tmax = 50\n",
    "tdelta = 0.005\n",
    "tvalues = np.arange(0, tmax, tdelta)\n",
    "ic = np.array([0.0, 1.0, 0.0])\n",
    "sol = odeint(lorenz_eq, ic, tvalues)\n",
    "x, y, z = np.array(zip(*sol))\n",
    "fig = plt.figure(figsize=(10,10))\n",
    "ax = fig.add_subplot(111, projection='3d')\n",
    "ax.plot(x, y, z, lw=1, color='red')\n",
    "ax.set_xlabel('$x$')\n",
    "ax.set_ylabel('$y$')\n",
    "ax.set_zlabel('$z$')\n",
    "plt.show()"
   ]
  },
  {
   "cell_type": "code",
   "execution_count": null,
   "metadata": {
    "collapsed": true
   },
   "outputs": [],
   "source": []
  },
  {
   "cell_type": "markdown",
   "metadata": {},
   "source": []
  },
  {
   "cell_type": "markdown",
   "metadata": {
    "heading_collapsed": true
   },
   "source": [
    "# 结语"
   ]
  },
  {
   "cell_type": "markdown",
   "metadata": {
    "hidden": true
   },
   "source": [
    "1.总结上文"
   ]
  },
  {
   "cell_type": "markdown",
   "metadata": {
    "hidden": true
   },
   "source": [
    "2更高层次的总结和展望"
   ]
  },
  {
   "cell_type": "markdown",
   "metadata": {
    "hidden": true
   },
   "source": [
    "上面是关于软件本身的一系列知识。介绍了工具的使用后，接下来将介绍怎么调用别人已经封装好的代码库，重点介绍已有的**scikit-learning代码库**，去写各种模式识别算法的notebook了。"
   ]
  }
 ],
 "metadata": {
  "anaconda-cloud": {},
  "kernelspec": {
   "display_name": "Python [default]",
   "language": "python",
   "name": "python2"
  },
  "toc": {
   "colors": {
    "hover_highlight": "#DAA520",
    "running_highlight": "#FF0000",
    "selected_highlight": "#FFD700"
   },
   "moveMenuLeft": true,
   "nav_menu": {
    "height": "159px",
    "width": "252px"
   },
   "navigate_menu": true,
   "number_sections": true,
   "sideBar": true,
   "threshold": 4,
   "toc_cell": true,
   "toc_section_display": "block",
   "toc_window_display": false
  }
 },
 "nbformat": 4,
 "nbformat_minor": 0
}
